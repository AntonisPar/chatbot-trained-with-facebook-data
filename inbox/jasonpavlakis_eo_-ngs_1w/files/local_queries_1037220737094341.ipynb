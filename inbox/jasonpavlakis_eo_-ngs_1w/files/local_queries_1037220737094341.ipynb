{
 "cells": [
  {
   "cell_type": "code",
   "execution_count": null,
   "id": "db2b5ffb-1051-4ed5-96d5-d01b90555693",
   "metadata": {},
   "outputs": [],
   "source": [
    "from pyspark.sql import SparkSession\n",
    "from sparkmeasure import StageMetrics\n",
    "from pyspark.sql.functions import year, row_number, col, count, split, explode, rank, dayofyear, hour, sum, concat_ws, collect_list, lower\n",
    "from pyspark.sql.window import Window\n",
    "\n",
    "spark = SparkSession \\\n",
    "    .builder \\\n",
    "    .appName('vaseis-2') \\\n",
    "    .config(\"spark.jars\", \"<path-to-jar>/spark-measure_2.12-0.17.jar\") \\\n",
    "    .master(\"spark://antonis:7077\") \\\n",
    "    .getOrCreate()\n",
    "\n",
    "rating_df = (spark.read\n",
    "    .format(\"csv\")\n",
    "    .option('header','true') #csv files have headers\n",
    "    .option('delimiter', ',') #delimiter of the csv files that are processed\n",
    "    .option('inferSchema', 'true') #if false, all values are strings\n",
    "    .load(\"rating.csv\") #file to be processed\n",
    ")\n",
    "movie_df = (spark.read\n",
    "    .format(\"csv\")\n",
    "    .option('header','true') #csv files have headers\n",
    "    .option('delimiter', ',') #delimiter of the csv files that are processed\n",
    "    .option('inferSchema', 'true') #if false, all values are strings\n",
    "    .load(\"movie.csv\") #file to be processed\n",
    ")"
   ]
  },
  {
   "cell_type": "code",
   "execution_count": null,
   "id": "276abb55-c501-4959-8e4c-a481fa9a4f0a",
   "metadata": {},
   "outputs": [],
   "source": [
    "# QUERY 1\n",
    "stagemetrics.begin()\n",
    "\n",
    "movie = movie_df.filter(movie_df[\"title\"] == \"Jumanji (1995)\") #get rows with title jumanji\n",
    "movieID = movie.collect()[0][0] #get movieID\n",
    "q1 = rating_df.filter(rating_df[\"movieId\"] == movieID).select(rating_df[\"userId\"]).count() #count how many people have seen the movie jumanji\n",
    "print(q1)\n",
    "\n",
    "stagemetrics.end()\n",
    "stagemetrics.print_report()"
   ]
  },
  {
   "cell_type": "code",
   "execution_count": null,
   "id": "0179a74a-2c0e-4d20-9a14-f9c1feb2b41b",
   "metadata": {},
   "outputs": [],
   "source": [
    "# QUERY 2\n",
    "stagemetrics.begin()\n",
    "\n",
    "boring_movies = tag_df.select('userId','movieId', lower(col('tag')).alias('tag')).filter(tag_df[\"tag\"].contains('boring')).drop_duplicates(subset=['movieId']).select(\"movieId\")\n",
    "boring_movie_names = boring_movies.join(movie_df, boring_movies.movieId == movie_df.movieId).orderBy(movie_df['title']).select(movie_df['title'])\n",
    "boring_movie_names.show() #show the first 5\n",
    "\n",
    "stagemetrics.end()\n",
    "stagemetrics.print_report()"
   ]
  },
  {
   "cell_type": "code",
   "execution_count": null,
   "id": "e7d84b40-b81c-4059-9d36-b3602f6f319a",
   "metadata": {},
   "outputs": [],
   "source": [
    "# QUERY 3\n",
    "stagemetrics.begin()\n",
    "\n",
    "bollywood_tag = tag_df.select('userId','movieId', lower(col('tag')).alias('tag')).filter(tag_df[\"tag\"] == ('bollywood')).select('userId','movieId')\n",
    "user_bollywood_good_rating = bollywood_tag.join(rating_df.select('userId','rating'), [\"userId\"], 'inner').distinct()\n",
    "user_bollywood_good_rating = user_bollywood_good_rating.filter(col(\"rating\")>3.0).dropDuplicates(['userId']).orderBy(col('userId')).select('userId')\n",
    "user_bollywood_good_rating.show()\n",
    "\n",
    "\n",
    "stagemetrics.end()\n",
    "stagemetrics.print_report()"
   ]
  },
  {
   "cell_type": "code",
   "execution_count": null,
   "id": "1104d5ae-3ba6-4a17-8327-e0ae9ab2cff3",
   "metadata": {},
   "outputs": [],
   "source": [
    "# QUERY 4\n",
    "stagemetrics.begin()\n",
    "\n",
    "q4_df = rating_df.withColumn('year', year(rating_df['timestamp'])).groupBy('year','movieId').avg('rating') #.join(movie_df.select('movieId','title'),['movieId'])\n",
    "window = Window.partitionBy(q4_df['year']).orderBy(q4_df['avg(rating)'].desc())\n",
    "\n",
    "q4_df = q4_df.select('*', row_number().over(window).alias('row_num')).filter(col('row_num') <= 10).join(movie_df.select('movieId','title'),['movieId']).orderBy(movie_df['title'].asc()).filter(col('year') == 2005).select(col('title'))\n",
    "q4_df.show()\n",
    "\n",
    "stagemetrics.end()\n",
    "stagemetrics.print_report()"
   ]
  },
  {
   "cell_type": "code",
   "execution_count": null,
   "id": "d5823595-249d-4701-b992-10c9c203ecc1",
   "metadata": {},
   "outputs": [],
   "source": [
    "# QUERY 5\n",
    "stagemetrics.begin()\n",
    "\n",
    "tag_df_2015 = tag_df.filter(year(tag_df['timestamp']) == 2015).select('movieId', 'tag').join(movie_df.select('movieId', 'title'), ['movieId'])\n",
    "tag_df_2015 = tag_df_2015.groupBy('movieId','title').agg(concat_ws(\", \", collect_list(tag_df_2015.tag)).alias('tags')).orderBy(tag_df_2015['title'].asc())\n",
    "tag_df_2015.show()\n",
    "\n",
    "stagemetrics.end()\n",
    "stagemetrics.print_report()"
   ]
  },
  {
   "cell_type": "code",
   "execution_count": null,
   "id": "bfc03b85-564d-4f83-95b9-8d40dba27371",
   "metadata": {},
   "outputs": [],
   "source": [
    "# QUERY 6\n",
    "stagemetrics.begin()\n",
    "\n",
    "q6_df = rating_df.groupBy('movieId').count()\n",
    "q6_df = q6_df.join(movie_df.select('movieId','title'),['movieId']).orderBy(q6_df['count'].desc())\n",
    "q6_df.select(col('title'),col('count')).show()\n",
    "\n",
    "stagemetrics.end()\n",
    "stagemetrics.print_report()"
   ]
  },
  {
   "cell_type": "code",
   "execution_count": null,
   "id": "9c695642-50f3-4afd-b612-c29f97d43f62",
   "metadata": {},
   "outputs": [],
   "source": [
    "# QUERY 7\n",
    "stagemetrics.begin()\n",
    "\n",
    "q7_df = rating_df.withColumn('year', year(rating_df['timestamp'])).groupBy('year','userId').count()\n",
    "window = Window.partitionBy(q7_df['year']).orderBy(q7_df['count'].desc())\n",
    "q7_df = q7_df.select('*', row_number().over(window).alias('row_num')).filter(col('row_num') <= 10)\n",
    "q7_df.filter(q7_df['year'] == 1995).select(col('userId')).orderBy(col('userId').asc()).show()\n",
    "\n",
    "stagemetrics.end()\n",
    "stagemetrics.print_report()"
   ]
  },
  {
   "cell_type": "code",
   "execution_count": null,
   "id": "8dcbb81d-c783-437b-9c67-94fd7e86f958",
   "metadata": {},
   "outputs": [],
   "source": [
    "# QUERY 8\n",
    "stagemetrics.begin()\n",
    "\n",
    "q8_df = movie_df.withColumn('genre',explode(split('genres',\"[|]\")))\n",
    "q8_df = q8_df.join(rating_df,['movieId'],'left')\n",
    "q8_df = q8_df.groupBy('genre','title').count()\n",
    "window = Window.partitionBy(q8_df['genre']).orderBy(q8_df['count'].desc())\n",
    "q8_df = q8_df.select('*', row_number().over(window).alias('rank')).filter(col('rank') == 1).orderBy(col('genre').asc())\n",
    "q8_df.select(col('genre'), col('title'), col('count')).show()\n",
    "\n",
    "stagemetrics.end()\n",
    "stagemetrics.print_report()"
   ]
  },
  {
   "cell_type": "code",
   "execution_count": null,
   "id": "7c56ecce-e281-485d-bbb2-d267c0eb4e3e",
   "metadata": {},
   "outputs": [],
   "source": [
    "# QUERY 9\n",
    "stagemetrics.begin()\n",
    "\n",
    "q9_df = rating_df.withColumn('year', year(rating_df['timestamp']))\n",
    "q9_df = q9_df.withColumn('doy', dayofyear(rating_df['timestamp']))\n",
    "q9_df = q9_df.withColumn('hour', hour(rating_df['timestamp']))\n",
    "q9_df = q9_df.groupBy(q9_df['movieId'],q9_df['year'],q9_df['doy'],q9_df['hour']).count()\n",
    "q9 = q9_df.filter(q9_df['count']>1).select(sum('count'))\n",
    "q9.show()\n",
    "\n",
    "stagemetrics.end()\n",
    "stagemetrics.print_report()"
   ]
  },
  {
   "cell_type": "code",
   "execution_count": null,
   "id": "5ea07d08-e1fc-406d-a948-63439d96a337",
   "metadata": {},
   "outputs": [],
   "source": [
    "# QUERY 10\n",
    "stagemetrics.begin()\n",
    "\n",
    "q10_df = rating_df.join(tag_df, ['movieId'], 'inner')\n",
    "q10_df = q10_df.select(\"movieId\",\"tag\").where((col('tag') == \"funny\") & (col('rating') > 3.5)).dropDuplicates()\n",
    "q10_df = q10_df.join(movie_df, ['movieId'], 'inner')\n",
    "q10_df = q10_df.withColumn(\"genre\",explode(split(\"genres\",\"[|]\")))\n",
    "q10_df = q10_df = q10_df.groupBy(q10_df['genre']).count().orderBy(q10_df['genre'].asc())\n",
    "q10_df.show()\n",
    "\n",
    "stagemetrics.end()\n",
    "stagemetrics.print_report()"
   ]
  }
 ],
 "metadata": {
  "kernelspec": {
   "display_name": "Python 3 (ipykernel)",
   "language": "python",
   "name": "python3"
  },
  "language_info": {
   "codemirror_mode": {
    "name": "ipython",
    "version": 3
   },
   "file_extension": ".py",
   "mimetype": "text/x-python",
   "name": "python",
   "nbconvert_exporter": "python",
   "pygments_lexer": "ipython3",
   "version": "3.9.6"
  }
 },
 "nbformat": 4,
 "nbformat_minor": 5
}
